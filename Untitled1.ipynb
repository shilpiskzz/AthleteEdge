{
 "cells": [
  {
   "cell_type": "code",
   "execution_count": 2,
   "id": "01ed808e-9122-40d8-b60f-8a50097a636d",
   "metadata": {},
   "outputs": [
    {
     "name": "stdout",
     "output_type": "stream",
     "text": [
      "   Callorie  Age  Weight  Fitness_Level      Injury Gender   Type  \\\n",
      "0      2500   28      65            0.8  Toe Injury      M  minor   \n",
      "1      2400   31      70            0.7  Toe Injury      M  minor   \n",
      "2      3300   29      67            0.8  Toe Injury      M  minor   \n",
      "3      2500   30      68            0.8  Toe Injury      M  minor   \n",
      "4      2400   25      55            0.7  Toe Injury      M  major   \n",
      "\n",
      "   Recovery_Period  \n",
      "0                2  \n",
      "1                2  \n",
      "2                2  \n",
      "3                3  \n",
      "4                6  \n",
      "MAE: 1.47\n",
      "MSE: 4.29\n",
      "R² Score: 0.95\n",
      "Model training complete. Saved as 'injury_recovery_model.pkl'.\n"
     ]
    }
   ],
   "source": [
    "import pandas as pd\n",
    "import numpy as np\n",
    "from sklearn.model_selection import train_test_split\n",
    "from sklearn.ensemble import RandomForestRegressor\n",
    "from sklearn.metrics import mean_absolute_error, mean_squared_error, r2_score\n",
    "import joblib\n",
    "\n",
    "# Load dataset\n",
    "df = pd.read_csv(\"injury_augmented.csv\")\n",
    "\n",
    "# Check dataset structure\n",
    "print(df.head())\n",
    "\n",
    "# Convert categorical variables to numerical (if any)\n",
    "df = pd.get_dummies(df)\n",
    "\n",
    "# Define input features (X) and target variable (y)\n",
    "X = df.drop(columns=[\"Recovery_Period\"])\n",
    "y = df[\"Recovery_Period\"]\n",
    "\n",
    "# Train-test split (80% training, 20% testing)\n",
    "X_train, X_test, y_train, y_test = train_test_split(X, y, test_size=0.2, random_state=42)\n",
    "\n",
    "# Initialize and train the model\n",
    "model = RandomForestRegressor(n_estimators=100, random_state=42)\n",
    "model.fit(X_train, y_train)\n",
    "\n",
    "# Predictions\n",
    "y_pred = model.predict(X_test)\n",
    "\n",
    "# Evaluation\n",
    "mae = mean_absolute_error(y_test, y_pred)\n",
    "mse = mean_squared_error(y_test, y_pred)\n",
    "r2 = r2_score(y_test, y_pred)\n",
    "\n",
    "print(f\"MAE: {mae:.2f}\")\n",
    "print(f\"MSE: {mse:.2f}\")\n",
    "print(f\"R² Score: {r2:.2f}\")\n",
    "\n",
    "# Save the trained model\n",
    "joblib.dump(model, \"injury_recovery_model.pkl\")\n",
    "\n",
    "print(\"Model training complete. Saved as 'injury_recovery_model.pkl'.\")\n"
   ]
  },
  {
   "cell_type": "code",
   "execution_count": null,
   "id": "4685cbec-43ab-4542-980e-92b006ccb2d6",
   "metadata": {},
   "outputs": [],
   "source": []
  }
 ],
 "metadata": {
  "kernelspec": {
   "display_name": "Python 3 (ipykernel)",
   "language": "python",
   "name": "python3"
  },
  "language_info": {
   "codemirror_mode": {
    "name": "ipython",
    "version": 3
   },
   "file_extension": ".py",
   "mimetype": "text/x-python",
   "name": "python",
   "nbconvert_exporter": "python",
   "pygments_lexer": "ipython3",
   "version": "3.11.3"
  }
 },
 "nbformat": 4,
 "nbformat_minor": 5
}
